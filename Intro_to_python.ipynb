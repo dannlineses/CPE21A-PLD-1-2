{
  "nbformat": 4,
  "nbformat_minor": 0,
  "metadata": {
    "colab": {
      "provenance": [],
      "authorship_tag": "ABX9TyOy5u954kZim/EgcKRXMnQa",
      "include_colab_link": true
    },
    "kernelspec": {
      "name": "python3",
      "display_name": "Python 3"
    },
    "language_info": {
      "name": "python"
    }
  },
  "cells": [
    {
      "cell_type": "markdown",
      "metadata": {
        "id": "view-in-github",
        "colab_type": "text"
      },
      "source": [
        "<a href=\"https://colab.research.google.com/github/dannlineses/CPE21A-PLD-1-2/blob/main/Intro_to_python.ipynb\" target=\"_parent\"><img src=\"https://colab.research.google.com/assets/colab-badge.svg\" alt=\"Open In Colab\"/></a>"
      ]
    },
    {
      "cell_type": "markdown",
      "source": [
        "#indentation"
      ],
      "metadata": {
        "id": "s-xJBNgkUIvy"
      }
    },
    {
      "cell_type": "code",
      "source": [
        "if 5>2:\n",
        "  print (\"5 is greater than 2\")\n",
        "  \n",
        "  #this is a comment"
      ],
      "metadata": {
        "id": "h3-aUr9bUMjT"
      },
      "execution_count": null,
      "outputs": []
    },
    {
      "cell_type": "markdown",
      "source": [
        "Variable Declaration"
      ],
      "metadata": {
        "id": "9PF3HCv2X8pG"
      }
    },
    {
      "cell_type": "code",
      "source": [
        "#variable ith a single value\n",
        "\n",
        "x = 2 \n",
        "y = 3\n",
        "if x > y:\n",
        "  print(\"x is greater than y\") \n",
        "else: \n",
        "  print(\"y is greater than x\")\n",
        "\n",
        "\n",
        "\n",
        "#variables with multiple values\n",
        "\n",
        "a,b = 1,2\n",
        "print(b)\n",
        "print(\"the value of a is:\" ,a) \n",
        "\n",
        "\n",
        "#multiple variables ith single value\n",
        "\n",
        "p = q = r = \"Mam\"\n",
        "print(p)\n",
        "print(q)\n",
        "print(r)"
      ],
      "metadata": {
        "colab": {
          "base_uri": "https://localhost:8080/"
        },
        "id": "J5CmnUeHVT0K",
        "outputId": "4030c3a3-682b-4509-d4fc-36f7570441c3"
      },
      "execution_count": 13,
      "outputs": [
        {
          "output_type": "stream",
          "name": "stdout",
          "text": [
            "y is greater than x\n",
            "2\n",
            "the value of a is: 1\n",
            "Mam\n",
            "Mam\n",
            "Mam\n"
          ]
        }
      ]
    },
    {
      "cell_type": "markdown",
      "source": [
        "Casting and Type function"
      ],
      "metadata": {
        "id": "nqBdDSfJWoJK"
      }
    },
    {
      "cell_type": "code",
      "source": [
        "f = int(4)  #integer\n",
        "g = float(4)  #decimal/fractional\n",
        "\n",
        "print(f)\n",
        "print(g)\n",
        "\n",
        "print(type(f))\n",
        "print(type(g))"
      ],
      "metadata": {
        "colab": {
          "base_uri": "https://localhost:8080/"
        },
        "id": "iIWJeNSQWp2V",
        "outputId": "ef5090f6-313d-4f0b-e462-bb266088fe3e"
      },
      "execution_count": 7,
      "outputs": [
        {
          "output_type": "stream",
          "name": "stdout",
          "text": [
            "4\n",
            "4.0\n",
            "<class 'int'>\n",
            "<class 'float'>\n"
          ]
        }
      ]
    },
    {
      "cell_type": "markdown",
      "source": [
        "Double quote and single quote"
      ],
      "metadata": {
        "id": "WBe_B82NXfe6"
      }
    },
    {
      "cell_type": "code",
      "source": [
        "name1 = \"Dann\"\n",
        "name2 = 'Dann'\n",
        "\n",
        "print(name1)\n",
        "print(name2)"
      ],
      "metadata": {
        "colab": {
          "base_uri": "https://localhost:8080/"
        },
        "id": "so6SC0XyXj4s",
        "outputId": "73d8c654-c638-4e2e-e81d-44cdb3456ba7"
      },
      "execution_count": 8,
      "outputs": [
        {
          "output_type": "stream",
          "name": "stdout",
          "text": [
            "Dann\n",
            "Dann\n"
          ]
        }
      ]
    },
    {
      "cell_type": "markdown",
      "source": [
        "Case sensitive"
      ],
      "metadata": {
        "id": "oflOGOf_YBe_"
      }
    },
    {
      "cell_type": "code",
      "source": [
        "a = \"Dann\"\n",
        "print(a)"
      ],
      "metadata": {
        "colab": {
          "base_uri": "https://localhost:8080/"
        },
        "id": "dbU_RRpxYDNt",
        "outputId": "3b50b996-d204-4bbe-ddf4-c6fa69666dee"
      },
      "execution_count": 9,
      "outputs": [
        {
          "output_type": "stream",
          "name": "stdout",
          "text": [
            "Dann\n"
          ]
        }
      ]
    },
    {
      "cell_type": "markdown",
      "source": [
        "Output Variables"
      ],
      "metadata": {
        "id": "89DLOgfXZWpT"
      }
    },
    {
      "cell_type": "code",
      "source": [
        "x = \"is enjoying\"\n",
        "print(\"Python programming\" + \" \" + x)   "
      ],
      "metadata": {
        "colab": {
          "base_uri": "https://localhost:8080/"
        },
        "id": "CBvqlZljZaQ1",
        "outputId": "6af3978a-10e9-47d3-e6bc-7f9c7c614d8e"
      },
      "execution_count": 15,
      "outputs": [
        {
          "output_type": "stream",
          "name": "stdout",
          "text": [
            "Python programming is enjoying\n"
          ]
        }
      ]
    }
  ]
}