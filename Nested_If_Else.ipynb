{
  "nbformat": 4,
  "nbformat_minor": 0,
  "metadata": {
    "colab": {
      "provenance": [],
      "authorship_tag": "ABX9TyMWb9daDlyQ3rQWY9dWZ+sU",
      "include_colab_link": true
    },
    "kernelspec": {
      "name": "python3",
      "display_name": "Python 3"
    },
    "language_info": {
      "name": "python"
    }
  },
  "cells": [
    {
      "cell_type": "markdown",
      "metadata": {
        "id": "view-in-github",
        "colab_type": "text"
      },
      "source": [
        "<a href=\"https://colab.research.google.com/github/dannlineses/CPE21A-PLD-1-2/blob/main/Nested_If_Else.ipynb\" target=\"_parent\"><img src=\"https://colab.research.google.com/assets/colab-badge.svg\" alt=\"Open In Colab\"/></a>"
      ]
    },
    {
      "cell_type": "markdown",
      "source": [
        "Nested if else"
      ],
      "metadata": {
        "id": "riDKYVmDXprP"
      }
    },
    {
      "cell_type": "code",
      "source": [
        "x = 21\n",
        "if x > 10:\n",
        "  print(\"above ten\")\n",
        "  if x > 20:\n",
        "    print(\"above twenty\")\n",
        "\n",
        "  else:\n",
        "    print(\"below twenty\")\n",
        "\n",
        "  if x > 30:\n",
        "    print(\"above thirty\")\n",
        "\n",
        "  else:\n",
        "    print(\"below thirty\")\n",
        "\n",
        "  if x > 40:\n",
        "    print(\"above forty\")\n",
        "        \n",
        "  else:\n",
        "    print(\"below forty\")\n",
        "    \n",
        "\n",
        "else:\n",
        "  print(\"not above ten\")"
      ],
      "metadata": {
        "colab": {
          "base_uri": "https://localhost:8080/"
        },
        "id": "cdyBS2ZhXsYq",
        "outputId": "06db2138-1740-4fb5-b124-291d5e74b787"
      },
      "execution_count": 27,
      "outputs": [
        {
          "output_type": "stream",
          "name": "stdout",
          "text": [
            "above ten\n",
            "above twenty\n",
            "below thirty\n",
            "below forty\n"
          ]
        }
      ]
    },
    {
      "cell_type": "code",
      "source": [
        "x = 1\n",
        "if x > 10:\n",
        "  print(\"above ten\")\n",
        "elif x < 10:\n",
        "  print(\"below ten\")\n",
        "else:\n",
        "  print(\"not above 10\")"
      ],
      "metadata": {
        "colab": {
          "base_uri": "https://localhost:8080/"
        },
        "id": "CS2ZEO_zaNkc",
        "outputId": "5cb6529b-8e7d-4a54-c01a-a0c47390e8c4"
      },
      "execution_count": 57,
      "outputs": [
        {
          "output_type": "stream",
          "name": "stdout",
          "text": [
            "below ten\n"
          ]
        }
      ]
    },
    {
      "cell_type": "code",
      "source": [
        "x = 41\n",
        "if x > 10:\n",
        "  print(\"above ten\")\n",
        "  if x < 20:\n",
        "    print(\"below twenty\")\n",
        "  else:\n",
        "    print(\"above twenty\")\n",
        "\n",
        "    if x < 30:\n",
        "      print(\"below thirty\")\n",
        "    else:\n",
        "      print(\"above thirty\")\n",
        "\n",
        "      if x < 40:\n",
        "        print(\"below forty\")\n",
        "      else:\n",
        "        print(\"above forty\")\n",
        "\n",
        "        if x < 50:\n",
        "          print(\"below fifty\")\n",
        "        else:\n",
        "          print(\"above fifty\")\n"
      ],
      "metadata": {
        "colab": {
          "base_uri": "https://localhost:8080/"
        },
        "id": "n34uiOdhccIX",
        "outputId": "f65e4bae-f031-4a55-9889-43f020e332c6"
      },
      "execution_count": 32,
      "outputs": [
        {
          "output_type": "stream",
          "name": "stdout",
          "text": [
            "above ten\n",
            "above twenty\n",
            "above thirty\n",
            "above forty\n",
            "below fifty\n"
          ]
        }
      ]
    },
    {
      "cell_type": "markdown",
      "source": [
        "Example 1"
      ],
      "metadata": {
        "id": "XMnn7TuH3G9z"
      }
    },
    {
      "cell_type": "code",
      "source": [
        "x = 17\n",
        "\n",
        "if x == 18:\n",
        "  print(\"Qualified to vote\")\n",
        "elif x > 18:\n",
        "  print(\"Qualified to vote\")\n",
        "else:\n",
        "  print(\"Not Qualified to vote\")"
      ],
      "metadata": {
        "colab": {
          "base_uri": "https://localhost:8080/"
        },
        "id": "u03L7evn3I5u",
        "outputId": "2e1f4e6c-f9da-40a2-bf6d-8915ee533921"
      },
      "execution_count": 64,
      "outputs": [
        {
          "output_type": "stream",
          "name": "stdout",
          "text": [
            "Not Qualified to vote\n"
          ]
        }
      ]
    },
    {
      "cell_type": "markdown",
      "source": [
        "Example 2"
      ],
      "metadata": {
        "id": "_20AD66j315k"
      }
    },
    {
      "cell_type": "code",
      "source": [
        "x = 5212\n",
        "\n",
        "if x == 0:\n",
        "  print(\"The input is zero\")\n",
        "elif  x > 0:\n",
        "  print(\"The input is Positive\")\n",
        "else:\n",
        "  print(\"The input is negative\")"
      ],
      "metadata": {
        "colab": {
          "base_uri": "https://localhost:8080/"
        },
        "id": "EvDAT7ti323f",
        "outputId": "6ae1cf53-242c-4c6f-f6bc-8f1d9a55bcb4"
      },
      "execution_count": 69,
      "outputs": [
        {
          "output_type": "stream",
          "name": "stdout",
          "text": [
            "The input is Positive\n"
          ]
        }
      ]
    },
    {
      "cell_type": "markdown",
      "source": [
        "Example 3"
      ],
      "metadata": {
        "id": "nY7OQ65x4a7f"
      }
    },
    {
      "cell_type": "code",
      "source": [
        "grade = -31\n",
        "\n",
        "if grade >= 75:\n",
        "  print(\"Passed\")\n",
        "elif grade == 74:\n",
        "  print(\"Remedial\")\n",
        "elif grade < 74 and grade > -1:\n",
        "  print(\"Failed\")\n",
        "if grade < 0:\n",
        "  print(\"invalid\")\n",
        "\n"
      ],
      "metadata": {
        "colab": {
          "base_uri": "https://localhost:8080/"
        },
        "id": "HPZXoMbJ4cxe",
        "outputId": "e2694137-2c62-4fd2-d352-db2142364e24"
      },
      "execution_count": 105,
      "outputs": [
        {
          "output_type": "stream",
          "name": "stdout",
          "text": [
            "invalid\n"
          ]
        }
      ]
    }
  ]
}