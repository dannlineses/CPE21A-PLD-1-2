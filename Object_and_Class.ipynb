{
  "nbformat": 4,
  "nbformat_minor": 0,
  "metadata": {
    "colab": {
      "provenance": [],
      "authorship_tag": "ABX9TyP2cKI8ILMbO4oWLa8tixqZ",
      "include_colab_link": true
    },
    "kernelspec": {
      "name": "python3",
      "display_name": "Python 3"
    },
    "language_info": {
      "name": "python"
    }
  },
  "cells": [
    {
      "cell_type": "markdown",
      "metadata": {
        "id": "view-in-github",
        "colab_type": "text"
      },
      "source": [
        "<a href=\"https://colab.research.google.com/github/dannlineses/CPE21A-PLD-1-2/blob/main/Object_and_Class.ipynb\" target=\"_parent\"><img src=\"https://colab.research.google.com/assets/colab-badge.svg\" alt=\"Open In Colab\"/></a>"
      ]
    },
    {
      "cell_type": "code",
      "execution_count": 17,
      "metadata": {
        "colab": {
          "base_uri": "https://localhost:8080/"
        },
        "id": "AY8lUD6V8x7A",
        "outputId": "f7a3818e-9a03-4214-b5a0-a9c2405297ba"
      },
      "outputs": [
        {
          "output_type": "stream",
          "name": "stdout",
          "text": [
            "My Personal Info are all here\n"
          ]
        }
      ],
      "source": [
        "class Person:\n",
        "  def __init__(self,name,age,birthdate):                                        #object and class constructor\n",
        "    self.name = name\n",
        "    self.age = age\n",
        "    self.birthdate = birthdate\n",
        "\n",
        "\n",
        "  def info(self):\n",
        "    return\"My Personal Info are all here\"                                       #method constructor\n",
        "\n",
        "class Student(Person):                                                          #inheritance\n",
        "  pass\n",
        "\n",
        "person = Student(\"Ana\", 28, \"january 4, 1996\")                                  #naming object\n",
        "\n",
        "print(person.info())"
      ]
    },
    {
      "cell_type": "code",
      "source": [
        "#Exercise 1\n",
        "# Write a Python program that:\n",
        "# Use Shape as parent class, Rectangle as child class with length and width attributes\n",
        "# Use Perimter() and Area() as methods to compute for the perimeter and area of the rectangle\n",
        "\n",
        "class Shape:\n",
        "  def __init__(self,length,width):\n",
        "    self.length = length\n",
        "    self.width = width\n",
        "\n",
        "  def Perimeter(self):\n",
        "    perimeter = 2*(self.length+self.width)\n",
        "    print(perimeter)\n",
        "\n",
        "  def Area(self):\n",
        "    area = self.length*self.width\n",
        "    print(area)\n",
        "\n",
        "class Rectangle(Shape):\n",
        "  pass\n",
        "\n",
        "shape = Rectangle(4,5) \n",
        "shape.Perimeter()\n",
        "shape.Area()"
      ],
      "metadata": {
        "colab": {
          "base_uri": "https://localhost:8080/"
        },
        "id": "myrMBf5GEWz4",
        "outputId": "5aae4670-0f3f-45a4-df43-9447d993f741"
      },
      "execution_count": 21,
      "outputs": [
        {
          "output_type": "stream",
          "name": "stdout",
          "text": [
            "18\n",
            "20\n"
          ]
        }
      ]
    }
  ]
}